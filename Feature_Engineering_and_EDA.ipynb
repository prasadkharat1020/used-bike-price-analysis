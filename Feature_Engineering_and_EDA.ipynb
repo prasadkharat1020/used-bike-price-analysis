{
 "cells": [
  {
   "cell_type": "code",
   "execution_count": null,
   "id": "567d0f07",
   "metadata": {
    "vscode": {
     "languageId": "plaintext"
    }
   },
   "outputs": [],
   "source": [
    "import pandas as pd\n",
    "\n",
    "df = pd.read_csv('../data/used_bikes.csv')\n",
    "df.head()\n",
    "df.info()\n",
    "df.describe()\n"
   ]
  }
 ],
 "metadata": {
  "language_info": {
   "name": "python"
  }
 },
 "nbformat": 4,
 "nbformat_minor": 5
}
